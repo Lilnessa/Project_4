{
 "cells": [
  {
   "cell_type": "code",
   "execution_count": 1,
   "metadata": {},
   "outputs": [],
   "source": [
    "#importing dependancies\n",
    "from datetime import datetime as dt\n",
    "import pandas as pd\n",
    "\n",
    "#importing data\n",
    "inflation_file = 'Resources/df_to_2103_annual.csv'\n",
    "col_file = 'Resources/cost_living_df.csv'\n",
    "life_file = 'Resources/life_expectancy_df.csv'"
   ]
  },
  {
   "cell_type": "code",
   "execution_count": 2,
   "metadata": {},
   "outputs": [],
   "source": [
    "#creating dataframes for future inflation, cost of living, and life expectancy data\n",
    "future_inflation_df = pd.read_csv(inflation_file)\n",
    "cost_living_df = pd.read_csv(col_file)\n",
    "life_expectancy_df = pd.read_csv(life_file)\n"
   ]
  },
  {
   "cell_type": "code",
   "execution_count": 3,
   "metadata": {},
   "outputs": [],
   "source": [
    "#getting input data for age, gender, saving, and state\n",
    "age = int(input(\"How old are you?\"))\n",
    "gender_input = input(\"What is your biological sex?\")\n",
    "savings = int(input(\"How many money in USD dollars do you have in savings for retirement right now?\"))\n",
    "state_input = input(\"What state do you live in?\")"
   ]
  },
  {
   "cell_type": "code",
   "execution_count": 4,
   "metadata": {},
   "outputs": [],
   "source": [
    "#setting default gender to male\n",
    "gender = 'male'\n",
    "\n",
    "#checking for f in input to detect if user meant female\n",
    "#accounting for spelling errors\n",
    "for i in range(len(gender_input)):\n",
    "        if gender_input[i] == 'f':\n",
    "            gender = 'female'\n",
    "\n",
    "#according to gender, calling the right life expentancy data\n",
    "life_expectancy_column = gender + '_life_expectancy'\n",
    "\n",
    "#grabbing the value of the number of years left in life based on age \n",
    "life_expectancy_age_gender = life_expectancy_df[life_expectancy_column][age]\n",
    "\n",
    "#getting the index of the state\n",
    "#does not count for spelling errors\n",
    "for state in range(len(cost_living_df['State'])):\n",
    "    if state_input == cost_living_df['State'][state]:\n",
    "        state_index = state\n",
    "\n",
    "#pulling the average cost of living based on the state\n",
    "cost_of_living = cost_living_df['cost_of_living'][state_index]\n",
    "\n",
    "\n",
    "#print('age:',age,', gender_input:', gender_input,', gender:', gender,', life_expectancy: ',life_expectancy_age_gender, ', state input:', state_input, ' ,cost of living: ', cost_of_living)"
   ]
  },
  {
   "cell_type": "code",
   "execution_count": 5,
   "metadata": {},
   "outputs": [
    {
     "name": "stdout",
     "output_type": "stream",
     "text": [
      "Remaining money needed to retire right now: $ 4581314.87\n"
     ]
    }
   ],
   "source": [
    "#sets current year to real time\n",
    "current = dt.now().year\n",
    "\n",
    "#rounding years left and adding an extra year for emergency\n",
    "year_left = round(life_expectancy_age_gender) + 1\n",
    "\n",
    "#finding year of death\n",
    "death_year = year_left + current\n",
    "\n",
    "#initializing total cost\n",
    "total_cost = 0\n",
    "\n",
    "#grabbing predicted inflation CPI value for current year\n",
    "current_inflation = future_inflation_df[\"y\"][current - 2024]\n",
    "\n",
    "for year in range(current, death_year):\n",
    "    index_value = year - current\n",
    "    #getting inflation CPI for each year in future\n",
    "    inflation = future_inflation_df[\"y\"][index_value]\n",
    "\n",
    "    #calculating the total cost of each year in current money value by accounting for inflation\n",
    "    yearly_cost = cost_of_living * inflation/(current_inflation) \n",
    "    #adding yearly cost to total cost\n",
    "    total_cost = total_cost + yearly_cost\n",
    "\n",
    "#removing savings from total cost to find the remainder of money saved\n",
    "money_needed = round(total_cost - savings, 2)\n",
    "\n",
    "#printing remaining money needed to retire right now\n",
    "\n",
    "if money_needed <= 0:\n",
    "    print(\"You can retire right now!!! YAY!!!!\")\n",
    "else: \n",
    "    print(\"Remaining money needed to retire right now: $\",money_needed)"
   ]
  }
 ],
 "metadata": {
  "kernelspec": {
   "display_name": "dev",
   "language": "python",
   "name": "python3"
  },
  "language_info": {
   "codemirror_mode": {
    "name": "ipython",
    "version": 3
   },
   "file_extension": ".py",
   "mimetype": "text/x-python",
   "name": "python",
   "nbconvert_exporter": "python",
   "pygments_lexer": "ipython3",
   "version": "3.10.13"
  }
 },
 "nbformat": 4,
 "nbformat_minor": 2
}
