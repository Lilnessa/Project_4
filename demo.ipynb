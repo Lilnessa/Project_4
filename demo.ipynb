{
 "cells": [
  {
   "cell_type": "markdown",
   "metadata": {},
   "source": [
    "# Linear Regression Version"
   ]
  },
  {
   "cell_type": "code",
   "execution_count": 90,
   "metadata": {},
   "outputs": [],
   "source": [
    "# Import required libraries\n",
    "import numpy as np\n",
    "import pandas as pd\n",
    "import hvplot.pandas\n",
    "from pathlib import Path\n",
    "from sklearn.linear_model import LinearRegression\n",
    "from sklearn.metrics import mean_squared_error, r2_score"
   ]
  },
  {
   "cell_type": "markdown",
   "metadata": {},
   "source": [
    "## Load the Data"
   ]
  },
  {
   "cell_type": "code",
   "execution_count": 91,
   "metadata": {},
   "outputs": [
    {
     "data": {
      "text/html": [
       "<div>\n",
       "<style scoped>\n",
       "    .dataframe tbody tr th:only-of-type {\n",
       "        vertical-align: middle;\n",
       "    }\n",
       "\n",
       "    .dataframe tbody tr th {\n",
       "        vertical-align: top;\n",
       "    }\n",
       "\n",
       "    .dataframe thead th {\n",
       "        text-align: right;\n",
       "    }\n",
       "</style>\n",
       "<table border=\"1\" class=\"dataframe\">\n",
       "  <thead>\n",
       "    <tr style=\"text-align: right;\">\n",
       "      <th></th>\n",
       "      <th>Year</th>\n",
       "      <th>Jan</th>\n",
       "      <th>Feb</th>\n",
       "      <th>Mar</th>\n",
       "      <th>Apr</th>\n",
       "      <th>May</th>\n",
       "      <th>Jun</th>\n",
       "      <th>Jul</th>\n",
       "      <th>Aug</th>\n",
       "      <th>Sep</th>\n",
       "      <th>Oct</th>\n",
       "      <th>Nov</th>\n",
       "      <th>Dec</th>\n",
       "    </tr>\n",
       "  </thead>\n",
       "  <tbody>\n",
       "    <tr>\n",
       "      <th>0</th>\n",
       "      <td>1913</td>\n",
       "      <td>9.800</td>\n",
       "      <td>9.800</td>\n",
       "      <td>9.800</td>\n",
       "      <td>9.800</td>\n",
       "      <td>9.700</td>\n",
       "      <td>9.800</td>\n",
       "      <td>9.900</td>\n",
       "      <td>9.900</td>\n",
       "      <td>10.000</td>\n",
       "      <td>10.000</td>\n",
       "      <td>10.100</td>\n",
       "      <td>10.000</td>\n",
       "    </tr>\n",
       "    <tr>\n",
       "      <th>1</th>\n",
       "      <td>1914</td>\n",
       "      <td>10.000</td>\n",
       "      <td>9.900</td>\n",
       "      <td>9.900</td>\n",
       "      <td>9.800</td>\n",
       "      <td>9.900</td>\n",
       "      <td>9.900</td>\n",
       "      <td>10.000</td>\n",
       "      <td>10.200</td>\n",
       "      <td>10.200</td>\n",
       "      <td>10.100</td>\n",
       "      <td>10.200</td>\n",
       "      <td>10.100</td>\n",
       "    </tr>\n",
       "    <tr>\n",
       "      <th>2</th>\n",
       "      <td>1915</td>\n",
       "      <td>10.100</td>\n",
       "      <td>10.000</td>\n",
       "      <td>9.900</td>\n",
       "      <td>10.000</td>\n",
       "      <td>10.100</td>\n",
       "      <td>10.100</td>\n",
       "      <td>10.100</td>\n",
       "      <td>10.100</td>\n",
       "      <td>10.100</td>\n",
       "      <td>10.200</td>\n",
       "      <td>10.300</td>\n",
       "      <td>10.300</td>\n",
       "    </tr>\n",
       "    <tr>\n",
       "      <th>3</th>\n",
       "      <td>1916</td>\n",
       "      <td>10.400</td>\n",
       "      <td>10.400</td>\n",
       "      <td>10.500</td>\n",
       "      <td>10.600</td>\n",
       "      <td>10.700</td>\n",
       "      <td>10.800</td>\n",
       "      <td>10.800</td>\n",
       "      <td>10.900</td>\n",
       "      <td>11.100</td>\n",
       "      <td>11.300</td>\n",
       "      <td>11.500</td>\n",
       "      <td>11.600</td>\n",
       "    </tr>\n",
       "    <tr>\n",
       "      <th>4</th>\n",
       "      <td>1917</td>\n",
       "      <td>11.700</td>\n",
       "      <td>12.000</td>\n",
       "      <td>12.000</td>\n",
       "      <td>12.600</td>\n",
       "      <td>12.800</td>\n",
       "      <td>13.000</td>\n",
       "      <td>12.800</td>\n",
       "      <td>13.000</td>\n",
       "      <td>13.300</td>\n",
       "      <td>13.500</td>\n",
       "      <td>13.500</td>\n",
       "      <td>13.700</td>\n",
       "    </tr>\n",
       "    <tr>\n",
       "      <th>...</th>\n",
       "      <td>...</td>\n",
       "      <td>...</td>\n",
       "      <td>...</td>\n",
       "      <td>...</td>\n",
       "      <td>...</td>\n",
       "      <td>...</td>\n",
       "      <td>...</td>\n",
       "      <td>...</td>\n",
       "      <td>...</td>\n",
       "      <td>...</td>\n",
       "      <td>...</td>\n",
       "      <td>...</td>\n",
       "      <td>...</td>\n",
       "    </tr>\n",
       "    <tr>\n",
       "      <th>106</th>\n",
       "      <td>2019</td>\n",
       "      <td>251.712</td>\n",
       "      <td>252.776</td>\n",
       "      <td>254.202</td>\n",
       "      <td>255.548</td>\n",
       "      <td>256.092</td>\n",
       "      <td>256.143</td>\n",
       "      <td>256.571</td>\n",
       "      <td>256.558</td>\n",
       "      <td>256.759</td>\n",
       "      <td>257.346</td>\n",
       "      <td>257.208</td>\n",
       "      <td>256.974</td>\n",
       "    </tr>\n",
       "    <tr>\n",
       "      <th>107</th>\n",
       "      <td>2020</td>\n",
       "      <td>257.971</td>\n",
       "      <td>258.678</td>\n",
       "      <td>258.115</td>\n",
       "      <td>256.389</td>\n",
       "      <td>256.394</td>\n",
       "      <td>257.797</td>\n",
       "      <td>259.101</td>\n",
       "      <td>259.918</td>\n",
       "      <td>260.280</td>\n",
       "      <td>260.388</td>\n",
       "      <td>260.229</td>\n",
       "      <td>260.474</td>\n",
       "    </tr>\n",
       "    <tr>\n",
       "      <th>108</th>\n",
       "      <td>2021</td>\n",
       "      <td>261.582</td>\n",
       "      <td>263.014</td>\n",
       "      <td>264.877</td>\n",
       "      <td>267.054</td>\n",
       "      <td>269.195</td>\n",
       "      <td>271.696</td>\n",
       "      <td>273.003</td>\n",
       "      <td>273.567</td>\n",
       "      <td>274.310</td>\n",
       "      <td>276.589</td>\n",
       "      <td>277.948</td>\n",
       "      <td>278.802</td>\n",
       "    </tr>\n",
       "    <tr>\n",
       "      <th>109</th>\n",
       "      <td>2022</td>\n",
       "      <td>281.148</td>\n",
       "      <td>283.716</td>\n",
       "      <td>287.504</td>\n",
       "      <td>289.109</td>\n",
       "      <td>292.296</td>\n",
       "      <td>296.311</td>\n",
       "      <td>296.276</td>\n",
       "      <td>296.171</td>\n",
       "      <td>296.808</td>\n",
       "      <td>298.012</td>\n",
       "      <td>297.711</td>\n",
       "      <td>296.797</td>\n",
       "    </tr>\n",
       "    <tr>\n",
       "      <th>110</th>\n",
       "      <td>2023</td>\n",
       "      <td>299.170</td>\n",
       "      <td>300.840</td>\n",
       "      <td>301.836</td>\n",
       "      <td>303.363</td>\n",
       "      <td>304.127</td>\n",
       "      <td>305.109</td>\n",
       "      <td>305.691</td>\n",
       "      <td>307.026</td>\n",
       "      <td>307.789</td>\n",
       "      <td>307.671</td>\n",
       "      <td>307.051</td>\n",
       "      <td>306.746</td>\n",
       "    </tr>\n",
       "  </tbody>\n",
       "</table>\n",
       "<p>111 rows × 13 columns</p>\n",
       "</div>"
      ],
      "text/plain": [
       "     Year      Jan      Feb      Mar      Apr      May      Jun      Jul  \\\n",
       "0    1913    9.800    9.800    9.800    9.800    9.700    9.800    9.900   \n",
       "1    1914   10.000    9.900    9.900    9.800    9.900    9.900   10.000   \n",
       "2    1915   10.100   10.000    9.900   10.000   10.100   10.100   10.100   \n",
       "3    1916   10.400   10.400   10.500   10.600   10.700   10.800   10.800   \n",
       "4    1917   11.700   12.000   12.000   12.600   12.800   13.000   12.800   \n",
       "..    ...      ...      ...      ...      ...      ...      ...      ...   \n",
       "106  2019  251.712  252.776  254.202  255.548  256.092  256.143  256.571   \n",
       "107  2020  257.971  258.678  258.115  256.389  256.394  257.797  259.101   \n",
       "108  2021  261.582  263.014  264.877  267.054  269.195  271.696  273.003   \n",
       "109  2022  281.148  283.716  287.504  289.109  292.296  296.311  296.276   \n",
       "110  2023  299.170  300.840  301.836  303.363  304.127  305.109  305.691   \n",
       "\n",
       "         Aug      Sep      Oct      Nov      Dec  \n",
       "0      9.900   10.000   10.000   10.100   10.000  \n",
       "1     10.200   10.200   10.100   10.200   10.100  \n",
       "2     10.100   10.100   10.200   10.300   10.300  \n",
       "3     10.900   11.100   11.300   11.500   11.600  \n",
       "4     13.000   13.300   13.500   13.500   13.700  \n",
       "..       ...      ...      ...      ...      ...  \n",
       "106  256.558  256.759  257.346  257.208  256.974  \n",
       "107  259.918  260.280  260.388  260.229  260.474  \n",
       "108  273.567  274.310  276.589  277.948  278.802  \n",
       "109  296.171  296.808  298.012  297.711  296.797  \n",
       "110  307.026  307.789  307.671  307.051  306.746  \n",
       "\n",
       "[111 rows x 13 columns]"
      ]
     },
     "execution_count": 91,
     "metadata": {},
     "output_type": "execute_result"
    }
   ],
   "source": [
    "# Read the CPI data\n",
    "file_path = Path(\"./Resource/CPI_report_year_month_only.csv\")\n",
    "df_CPI = pd.read_csv(file_path)\n",
    "\n",
    "# Display sample data\n",
    "df_CPI"
   ]
  },
  {
   "cell_type": "markdown",
   "metadata": {},
   "source": [
    "## Prepare the Data to Fit the Linear Regression Model"
   ]
  },
  {
   "cell_type": "code",
   "execution_count": 92,
   "metadata": {},
   "outputs": [],
   "source": [
    "# Get the year and month as the feature data\n",
    "date = []\n",
    "for i in df_CPI[\"Year\"]:\n",
    "    for j in range(1,13):\n",
    "        date.append(f\"{i}_{j}\")\n",
    "\n",
    "# It is a bit weird here, since I look at the practice examples and search online that the X value has to be numerical, \n",
    "# and I did not find a good way to represent year and month as numerical.\n",
    "# So I use 1 to 1332 to represent it for now,\n",
    "# where 1 stand for 1913 Jan, 1332 stand for 2023 Dec\n",
    "X = np.array(range(1,1333)).reshape(-1, 1)"
   ]
  },
  {
   "cell_type": "code",
   "execution_count": 93,
   "metadata": {},
   "outputs": [],
   "source": [
    "# Get the CPI value as target value\n",
    "y = np.array([df_CPI.drop(columns=\"Year\")]).reshape(-1,1)"
   ]
  },
  {
   "cell_type": "code",
   "execution_count": 94,
   "metadata": {},
   "outputs": [
    {
     "name": "stdout",
     "output_type": "stream",
     "text": [
      "X date type: int32\n",
      "y date type: float64\n"
     ]
    }
   ],
   "source": [
    "# Check the data type\n",
    "print(f'X date type: {X.dtype}')\n",
    "print(f'y date type: {y.dtype}')"
   ]
  },
  {
   "cell_type": "markdown",
   "metadata": {},
   "source": [
    "## Build the Linear Regression Model with Train data"
   ]
  },
  {
   "cell_type": "code",
   "execution_count": 95,
   "metadata": {},
   "outputs": [],
   "source": [
    "# Create a model with scikit-learn\n",
    "model = LinearRegression()"
   ]
  },
  {
   "cell_type": "code",
   "execution_count": 96,
   "metadata": {},
   "outputs": [
    {
     "data": {
      "text/html": [
       "<style>#sk-container-id-5 {color: black;background-color: white;}#sk-container-id-5 pre{padding: 0;}#sk-container-id-5 div.sk-toggleable {background-color: white;}#sk-container-id-5 label.sk-toggleable__label {cursor: pointer;display: block;width: 100%;margin-bottom: 0;padding: 0.3em;box-sizing: border-box;text-align: center;}#sk-container-id-5 label.sk-toggleable__label-arrow:before {content: \"▸\";float: left;margin-right: 0.25em;color: #696969;}#sk-container-id-5 label.sk-toggleable__label-arrow:hover:before {color: black;}#sk-container-id-5 div.sk-estimator:hover label.sk-toggleable__label-arrow:before {color: black;}#sk-container-id-5 div.sk-toggleable__content {max-height: 0;max-width: 0;overflow: hidden;text-align: left;background-color: #f0f8ff;}#sk-container-id-5 div.sk-toggleable__content pre {margin: 0.2em;color: black;border-radius: 0.25em;background-color: #f0f8ff;}#sk-container-id-5 input.sk-toggleable__control:checked~div.sk-toggleable__content {max-height: 200px;max-width: 100%;overflow: auto;}#sk-container-id-5 input.sk-toggleable__control:checked~label.sk-toggleable__label-arrow:before {content: \"▾\";}#sk-container-id-5 div.sk-estimator input.sk-toggleable__control:checked~label.sk-toggleable__label {background-color: #d4ebff;}#sk-container-id-5 div.sk-label input.sk-toggleable__control:checked~label.sk-toggleable__label {background-color: #d4ebff;}#sk-container-id-5 input.sk-hidden--visually {border: 0;clip: rect(1px 1px 1px 1px);clip: rect(1px, 1px, 1px, 1px);height: 1px;margin: -1px;overflow: hidden;padding: 0;position: absolute;width: 1px;}#sk-container-id-5 div.sk-estimator {font-family: monospace;background-color: #f0f8ff;border: 1px dotted black;border-radius: 0.25em;box-sizing: border-box;margin-bottom: 0.5em;}#sk-container-id-5 div.sk-estimator:hover {background-color: #d4ebff;}#sk-container-id-5 div.sk-parallel-item::after {content: \"\";width: 100%;border-bottom: 1px solid gray;flex-grow: 1;}#sk-container-id-5 div.sk-label:hover label.sk-toggleable__label {background-color: #d4ebff;}#sk-container-id-5 div.sk-serial::before {content: \"\";position: absolute;border-left: 1px solid gray;box-sizing: border-box;top: 0;bottom: 0;left: 50%;z-index: 0;}#sk-container-id-5 div.sk-serial {display: flex;flex-direction: column;align-items: center;background-color: white;padding-right: 0.2em;padding-left: 0.2em;position: relative;}#sk-container-id-5 div.sk-item {position: relative;z-index: 1;}#sk-container-id-5 div.sk-parallel {display: flex;align-items: stretch;justify-content: center;background-color: white;position: relative;}#sk-container-id-5 div.sk-item::before, #sk-container-id-5 div.sk-parallel-item::before {content: \"\";position: absolute;border-left: 1px solid gray;box-sizing: border-box;top: 0;bottom: 0;left: 50%;z-index: -1;}#sk-container-id-5 div.sk-parallel-item {display: flex;flex-direction: column;z-index: 1;position: relative;background-color: white;}#sk-container-id-5 div.sk-parallel-item:first-child::after {align-self: flex-end;width: 50%;}#sk-container-id-5 div.sk-parallel-item:last-child::after {align-self: flex-start;width: 50%;}#sk-container-id-5 div.sk-parallel-item:only-child::after {width: 0;}#sk-container-id-5 div.sk-dashed-wrapped {border: 1px dashed gray;margin: 0 0.4em 0.5em 0.4em;box-sizing: border-box;padding-bottom: 0.4em;background-color: white;}#sk-container-id-5 div.sk-label label {font-family: monospace;font-weight: bold;display: inline-block;line-height: 1.2em;}#sk-container-id-5 div.sk-label-container {text-align: center;}#sk-container-id-5 div.sk-container {/* jupyter's `normalize.less` sets `[hidden] { display: none; }` but bootstrap.min.css set `[hidden] { display: none !important; }` so we also need the `!important` here to be able to override the default hidden behavior on the sphinx rendered scikit-learn.org. See: https://github.com/scikit-learn/scikit-learn/issues/21755 */display: inline-block !important;position: relative;}#sk-container-id-5 div.sk-text-repr-fallback {display: none;}</style><div id=\"sk-container-id-5\" class=\"sk-top-container\"><div class=\"sk-text-repr-fallback\"><pre>LinearRegression()</pre><b>In a Jupyter environment, please rerun this cell to show the HTML representation or trust the notebook. <br />On GitHub, the HTML representation is unable to render, please try loading this page with nbviewer.org.</b></div><div class=\"sk-container\" hidden><div class=\"sk-item\"><div class=\"sk-estimator sk-toggleable\"><input class=\"sk-toggleable__control sk-hidden--visually\" id=\"sk-estimator-id-5\" type=\"checkbox\" checked><label for=\"sk-estimator-id-5\" class=\"sk-toggleable__label sk-toggleable__label-arrow\">LinearRegression</label><div class=\"sk-toggleable__content\"><pre>LinearRegression()</pre></div></div></div></div></div>"
      ],
      "text/plain": [
       "LinearRegression()"
      ]
     },
     "execution_count": 96,
     "metadata": {},
     "output_type": "execute_result"
    }
   ],
   "source": [
    "# Fit the data into the model\n",
    "model.fit(X, y)"
   ]
  },
  {
   "cell_type": "code",
   "execution_count": 97,
   "metadata": {},
   "outputs": [
    {
     "name": "stdout",
     "output_type": "stream",
     "text": [
      "Model's slope: 0.20297179818133607\n"
     ]
    }
   ],
   "source": [
    "# Display the slope\n",
    "print(f\"Model's slope: {model.coef_[0][0]}\")"
   ]
  },
  {
   "cell_type": "code",
   "execution_count": 98,
   "metadata": {},
   "outputs": [
    {
     "name": "stdout",
     "output_type": "stream",
     "text": [
      "Model's y-intercept: -48.023038322695314\n"
     ]
    }
   ],
   "source": [
    "# Display the y-intercept\n",
    "print(f\"Model's y-intercept: {model.intercept_[0]}\")"
   ]
  },
  {
   "cell_type": "code",
   "execution_count": 99,
   "metadata": {},
   "outputs": [
    {
     "name": "stdout",
     "output_type": "stream",
     "text": [
      "Model's formula: y = -48.023038322695314 + 0.20297179818133607X\n"
     ]
    }
   ],
   "source": [
    "# Display the model's best fit line formula\n",
    "print(f\"Model's formula: y = {model.intercept_[0]} + {model.coef_[0][0]}X\")"
   ]
  },
  {
   "cell_type": "markdown",
   "metadata": {},
   "source": [
    "## Assess the Linear Regression Model"
   ]
  },
  {
   "cell_type": "code",
   "execution_count": 100,
   "metadata": {},
   "outputs": [],
   "source": [
    "# Make predictions using the X set\n",
    "predicted_y_values = model.predict(X)"
   ]
  },
  {
   "cell_type": "code",
   "execution_count": 101,
   "metadata": {},
   "outputs": [
    {
     "name": "stdout",
     "output_type": "stream",
     "text": [
      "The score is 0.8372613023481741.\n",
      "The r2 is 0.8372613023481741.\n",
      "The mean squared error is 1183.935858987904.\n",
      "The root mean squared error is 34.408369025397064.\n",
      "The standard deviation is 85.29403680892737.\n"
     ]
    }
   ],
   "source": [
    "# Compute metrics for the linear regression model: score, r2, mse, rmse, std\n",
    "score = model.score(X, y, sample_weight=None)\n",
    "r2_LR = r2_score(y, predicted_y_values)\n",
    "mse = mean_squared_error(y, predicted_y_values)\n",
    "rmse = np.sqrt(mse)\n",
    "std = np.std(y)\n",
    "\n",
    "# Print relevant metrics.\n",
    "print(f\"The score is {score}.\")\n",
    "print(f\"The r2 is {r2_LR}.\")\n",
    "print(f\"The mean squared error is {mse}.\")\n",
    "print(f\"The root mean squared error is {rmse}.\")\n",
    "print(f\"The standard deviation is {std}.\")"
   ]
  },
  {
   "cell_type": "markdown",
   "metadata": {},
   "source": [
    "## Build the Ridge Regression Model with Train data"
   ]
  },
  {
   "cell_type": "code",
   "execution_count": 102,
   "metadata": {},
   "outputs": [],
   "source": [
    "from sklearn.linear_model import Ridge\n",
    "# Create a model with scikit-learn\n",
    "model = Ridge()"
   ]
  },
  {
   "cell_type": "code",
   "execution_count": 103,
   "metadata": {},
   "outputs": [
    {
     "data": {
      "text/html": [
       "<style>#sk-container-id-6 {color: black;background-color: white;}#sk-container-id-6 pre{padding: 0;}#sk-container-id-6 div.sk-toggleable {background-color: white;}#sk-container-id-6 label.sk-toggleable__label {cursor: pointer;display: block;width: 100%;margin-bottom: 0;padding: 0.3em;box-sizing: border-box;text-align: center;}#sk-container-id-6 label.sk-toggleable__label-arrow:before {content: \"▸\";float: left;margin-right: 0.25em;color: #696969;}#sk-container-id-6 label.sk-toggleable__label-arrow:hover:before {color: black;}#sk-container-id-6 div.sk-estimator:hover label.sk-toggleable__label-arrow:before {color: black;}#sk-container-id-6 div.sk-toggleable__content {max-height: 0;max-width: 0;overflow: hidden;text-align: left;background-color: #f0f8ff;}#sk-container-id-6 div.sk-toggleable__content pre {margin: 0.2em;color: black;border-radius: 0.25em;background-color: #f0f8ff;}#sk-container-id-6 input.sk-toggleable__control:checked~div.sk-toggleable__content {max-height: 200px;max-width: 100%;overflow: auto;}#sk-container-id-6 input.sk-toggleable__control:checked~label.sk-toggleable__label-arrow:before {content: \"▾\";}#sk-container-id-6 div.sk-estimator input.sk-toggleable__control:checked~label.sk-toggleable__label {background-color: #d4ebff;}#sk-container-id-6 div.sk-label input.sk-toggleable__control:checked~label.sk-toggleable__label {background-color: #d4ebff;}#sk-container-id-6 input.sk-hidden--visually {border: 0;clip: rect(1px 1px 1px 1px);clip: rect(1px, 1px, 1px, 1px);height: 1px;margin: -1px;overflow: hidden;padding: 0;position: absolute;width: 1px;}#sk-container-id-6 div.sk-estimator {font-family: monospace;background-color: #f0f8ff;border: 1px dotted black;border-radius: 0.25em;box-sizing: border-box;margin-bottom: 0.5em;}#sk-container-id-6 div.sk-estimator:hover {background-color: #d4ebff;}#sk-container-id-6 div.sk-parallel-item::after {content: \"\";width: 100%;border-bottom: 1px solid gray;flex-grow: 1;}#sk-container-id-6 div.sk-label:hover label.sk-toggleable__label {background-color: #d4ebff;}#sk-container-id-6 div.sk-serial::before {content: \"\";position: absolute;border-left: 1px solid gray;box-sizing: border-box;top: 0;bottom: 0;left: 50%;z-index: 0;}#sk-container-id-6 div.sk-serial {display: flex;flex-direction: column;align-items: center;background-color: white;padding-right: 0.2em;padding-left: 0.2em;position: relative;}#sk-container-id-6 div.sk-item {position: relative;z-index: 1;}#sk-container-id-6 div.sk-parallel {display: flex;align-items: stretch;justify-content: center;background-color: white;position: relative;}#sk-container-id-6 div.sk-item::before, #sk-container-id-6 div.sk-parallel-item::before {content: \"\";position: absolute;border-left: 1px solid gray;box-sizing: border-box;top: 0;bottom: 0;left: 50%;z-index: -1;}#sk-container-id-6 div.sk-parallel-item {display: flex;flex-direction: column;z-index: 1;position: relative;background-color: white;}#sk-container-id-6 div.sk-parallel-item:first-child::after {align-self: flex-end;width: 50%;}#sk-container-id-6 div.sk-parallel-item:last-child::after {align-self: flex-start;width: 50%;}#sk-container-id-6 div.sk-parallel-item:only-child::after {width: 0;}#sk-container-id-6 div.sk-dashed-wrapped {border: 1px dashed gray;margin: 0 0.4em 0.5em 0.4em;box-sizing: border-box;padding-bottom: 0.4em;background-color: white;}#sk-container-id-6 div.sk-label label {font-family: monospace;font-weight: bold;display: inline-block;line-height: 1.2em;}#sk-container-id-6 div.sk-label-container {text-align: center;}#sk-container-id-6 div.sk-container {/* jupyter's `normalize.less` sets `[hidden] { display: none; }` but bootstrap.min.css set `[hidden] { display: none !important; }` so we also need the `!important` here to be able to override the default hidden behavior on the sphinx rendered scikit-learn.org. See: https://github.com/scikit-learn/scikit-learn/issues/21755 */display: inline-block !important;position: relative;}#sk-container-id-6 div.sk-text-repr-fallback {display: none;}</style><div id=\"sk-container-id-6\" class=\"sk-top-container\"><div class=\"sk-text-repr-fallback\"><pre>Ridge()</pre><b>In a Jupyter environment, please rerun this cell to show the HTML representation or trust the notebook. <br />On GitHub, the HTML representation is unable to render, please try loading this page with nbviewer.org.</b></div><div class=\"sk-container\" hidden><div class=\"sk-item\"><div class=\"sk-estimator sk-toggleable\"><input class=\"sk-toggleable__control sk-hidden--visually\" id=\"sk-estimator-id-6\" type=\"checkbox\" checked><label for=\"sk-estimator-id-6\" class=\"sk-toggleable__label sk-toggleable__label-arrow\">Ridge</label><div class=\"sk-toggleable__content\"><pre>Ridge()</pre></div></div></div></div></div>"
      ],
      "text/plain": [
       "Ridge()"
      ]
     },
     "execution_count": 103,
     "metadata": {},
     "output_type": "execute_result"
    }
   ],
   "source": [
    "# Fit the data into the model\n",
    "model.fit(X, y)"
   ]
  },
  {
   "cell_type": "code",
   "execution_count": 104,
   "metadata": {},
   "outputs": [
    {
     "name": "stdout",
     "output_type": "stream",
     "text": [
      "Model's slope: 0.20297179715070202\n"
     ]
    }
   ],
   "source": [
    "# Display the slope\n",
    "print(f\"Model's slope: {model.coef_[0][0]}\")"
   ]
  },
  {
   "cell_type": "code",
   "execution_count": 105,
   "metadata": {},
   "outputs": [
    {
     "name": "stdout",
     "output_type": "stream",
     "text": [
      "Model's y-intercept: -48.023037635777726\n"
     ]
    }
   ],
   "source": [
    "# Display the y-intercept\n",
    "print(f\"Model's y-intercept: {model.intercept_[0]}\")"
   ]
  },
  {
   "cell_type": "code",
   "execution_count": 106,
   "metadata": {},
   "outputs": [
    {
     "name": "stdout",
     "output_type": "stream",
     "text": [
      "Model's formula: y = -48.023037635777726 + 0.20297179715070202X\n"
     ]
    }
   ],
   "source": [
    "# Display the model's best fit line formula\n",
    "print(f\"Model's formula: y = {model.intercept_[0]} + {model.coef_[0][0]}X\")"
   ]
  },
  {
   "cell_type": "markdown",
   "metadata": {},
   "source": [
    "## Assess the Ridge Regression Model"
   ]
  },
  {
   "cell_type": "code",
   "execution_count": 107,
   "metadata": {},
   "outputs": [],
   "source": [
    "# Make predictions using the X set\n",
    "predicted_y_values = model.predict(X)"
   ]
  },
  {
   "cell_type": "code",
   "execution_count": 108,
   "metadata": {},
   "outputs": [
    {
     "name": "stdout",
     "output_type": "stream",
     "text": [
      "The score is 0.8372613023481741.\n",
      "The r2 is 0.8372613023481741.\n",
      "The mean squared error is 1183.9358589879046.\n",
      "The root mean squared error is 34.40836902539707.\n",
      "The standard deviation is 85.29403680892737.\n"
     ]
    }
   ],
   "source": [
    "# Compute metrics for the linear regression model: score, r2, mse, rmse, std\n",
    "score = model.score(X, y, sample_weight=None)\n",
    "r2_RR = r2_score(y, predicted_y_values)\n",
    "mse = mean_squared_error(y, predicted_y_values)\n",
    "rmse = np.sqrt(mse)\n",
    "std = np.std(y)\n",
    "\n",
    "# Print relevant metrics.\n",
    "print(f\"The score is {score}.\")\n",
    "print(f\"The r2 is {r2_RR}.\")\n",
    "print(f\"The mean squared error is {mse}.\")\n",
    "print(f\"The root mean squared error is {rmse}.\")\n",
    "print(f\"The standard deviation is {std}.\")"
   ]
  },
  {
   "cell_type": "markdown",
   "metadata": {},
   "source": [
    "## Build the Lasso Regression Model with Train data"
   ]
  },
  {
   "cell_type": "code",
   "execution_count": 109,
   "metadata": {},
   "outputs": [],
   "source": [
    "from sklearn.linear_model import Lasso\n",
    "# Create a model with scikit-learn\n",
    "model = Lasso()"
   ]
  },
  {
   "cell_type": "code",
   "execution_count": 110,
   "metadata": {},
   "outputs": [
    {
     "data": {
      "text/html": [
       "<style>#sk-container-id-7 {color: black;background-color: white;}#sk-container-id-7 pre{padding: 0;}#sk-container-id-7 div.sk-toggleable {background-color: white;}#sk-container-id-7 label.sk-toggleable__label {cursor: pointer;display: block;width: 100%;margin-bottom: 0;padding: 0.3em;box-sizing: border-box;text-align: center;}#sk-container-id-7 label.sk-toggleable__label-arrow:before {content: \"▸\";float: left;margin-right: 0.25em;color: #696969;}#sk-container-id-7 label.sk-toggleable__label-arrow:hover:before {color: black;}#sk-container-id-7 div.sk-estimator:hover label.sk-toggleable__label-arrow:before {color: black;}#sk-container-id-7 div.sk-toggleable__content {max-height: 0;max-width: 0;overflow: hidden;text-align: left;background-color: #f0f8ff;}#sk-container-id-7 div.sk-toggleable__content pre {margin: 0.2em;color: black;border-radius: 0.25em;background-color: #f0f8ff;}#sk-container-id-7 input.sk-toggleable__control:checked~div.sk-toggleable__content {max-height: 200px;max-width: 100%;overflow: auto;}#sk-container-id-7 input.sk-toggleable__control:checked~label.sk-toggleable__label-arrow:before {content: \"▾\";}#sk-container-id-7 div.sk-estimator input.sk-toggleable__control:checked~label.sk-toggleable__label {background-color: #d4ebff;}#sk-container-id-7 div.sk-label input.sk-toggleable__control:checked~label.sk-toggleable__label {background-color: #d4ebff;}#sk-container-id-7 input.sk-hidden--visually {border: 0;clip: rect(1px 1px 1px 1px);clip: rect(1px, 1px, 1px, 1px);height: 1px;margin: -1px;overflow: hidden;padding: 0;position: absolute;width: 1px;}#sk-container-id-7 div.sk-estimator {font-family: monospace;background-color: #f0f8ff;border: 1px dotted black;border-radius: 0.25em;box-sizing: border-box;margin-bottom: 0.5em;}#sk-container-id-7 div.sk-estimator:hover {background-color: #d4ebff;}#sk-container-id-7 div.sk-parallel-item::after {content: \"\";width: 100%;border-bottom: 1px solid gray;flex-grow: 1;}#sk-container-id-7 div.sk-label:hover label.sk-toggleable__label {background-color: #d4ebff;}#sk-container-id-7 div.sk-serial::before {content: \"\";position: absolute;border-left: 1px solid gray;box-sizing: border-box;top: 0;bottom: 0;left: 50%;z-index: 0;}#sk-container-id-7 div.sk-serial {display: flex;flex-direction: column;align-items: center;background-color: white;padding-right: 0.2em;padding-left: 0.2em;position: relative;}#sk-container-id-7 div.sk-item {position: relative;z-index: 1;}#sk-container-id-7 div.sk-parallel {display: flex;align-items: stretch;justify-content: center;background-color: white;position: relative;}#sk-container-id-7 div.sk-item::before, #sk-container-id-7 div.sk-parallel-item::before {content: \"\";position: absolute;border-left: 1px solid gray;box-sizing: border-box;top: 0;bottom: 0;left: 50%;z-index: -1;}#sk-container-id-7 div.sk-parallel-item {display: flex;flex-direction: column;z-index: 1;position: relative;background-color: white;}#sk-container-id-7 div.sk-parallel-item:first-child::after {align-self: flex-end;width: 50%;}#sk-container-id-7 div.sk-parallel-item:last-child::after {align-self: flex-start;width: 50%;}#sk-container-id-7 div.sk-parallel-item:only-child::after {width: 0;}#sk-container-id-7 div.sk-dashed-wrapped {border: 1px dashed gray;margin: 0 0.4em 0.5em 0.4em;box-sizing: border-box;padding-bottom: 0.4em;background-color: white;}#sk-container-id-7 div.sk-label label {font-family: monospace;font-weight: bold;display: inline-block;line-height: 1.2em;}#sk-container-id-7 div.sk-label-container {text-align: center;}#sk-container-id-7 div.sk-container {/* jupyter's `normalize.less` sets `[hidden] { display: none; }` but bootstrap.min.css set `[hidden] { display: none !important; }` so we also need the `!important` here to be able to override the default hidden behavior on the sphinx rendered scikit-learn.org. See: https://github.com/scikit-learn/scikit-learn/issues/21755 */display: inline-block !important;position: relative;}#sk-container-id-7 div.sk-text-repr-fallback {display: none;}</style><div id=\"sk-container-id-7\" class=\"sk-top-container\"><div class=\"sk-text-repr-fallback\"><pre>Lasso()</pre><b>In a Jupyter environment, please rerun this cell to show the HTML representation or trust the notebook. <br />On GitHub, the HTML representation is unable to render, please try loading this page with nbviewer.org.</b></div><div class=\"sk-container\" hidden><div class=\"sk-item\"><div class=\"sk-estimator sk-toggleable\"><input class=\"sk-toggleable__control sk-hidden--visually\" id=\"sk-estimator-id-7\" type=\"checkbox\" checked><label for=\"sk-estimator-id-7\" class=\"sk-toggleable__label sk-toggleable__label-arrow\">Lasso</label><div class=\"sk-toggleable__content\"><pre>Lasso()</pre></div></div></div></div></div>"
      ],
      "text/plain": [
       "Lasso()"
      ]
     },
     "execution_count": 110,
     "metadata": {},
     "output_type": "execute_result"
    }
   ],
   "source": [
    "# Fit the data into the model\n",
    "model.fit(X, y)"
   ]
  },
  {
   "cell_type": "markdown",
   "metadata": {},
   "source": [
    "## Assess the Lasso Regression Model"
   ]
  },
  {
   "cell_type": "code",
   "execution_count": null,
   "metadata": {},
   "outputs": [],
   "source": [
    "# Make predictions using the X set\n",
    "predicted_y_values = model.predict(X)"
   ]
  },
  {
   "cell_type": "code",
   "execution_count": null,
   "metadata": {},
   "outputs": [
    {
     "name": "stdout",
     "output_type": "stream",
     "text": [
      "The score is 0.8372613014184893.\n",
      "The r2 is 0.8372613014184893.\n",
      "The mean squared error is 1183.9358657514283.\n",
      "The root mean squared error is 34.40836912368019.\n",
      "The standard deviation is 85.29403680892737.\n"
     ]
    }
   ],
   "source": [
    "# Compute metrics for the linear regression model: score, r2, mse, rmse, std\n",
    "score = model.score(X, y, sample_weight=None)\n",
    "r2_LaR = r2_score(y, predicted_y_values)\n",
    "mse = mean_squared_error(y, predicted_y_values)\n",
    "rmse = np.sqrt(mse)\n",
    "std = np.std(y)\n",
    "\n",
    "# Print relevant metrics.\n",
    "print(f\"The score is {score}.\")\n",
    "print(f\"The r2 is {r2_LaR}.\")\n",
    "print(f\"The mean squared error is {mse}.\")\n",
    "print(f\"The root mean squared error is {rmse}.\")\n",
    "print(f\"The standard deviation is {std}.\")"
   ]
  },
  {
   "cell_type": "markdown",
   "metadata": {},
   "source": [
    "## Build the RandomForestRegressor Model with Train data"
   ]
  },
  {
   "cell_type": "code",
   "execution_count": null,
   "metadata": {},
   "outputs": [],
   "source": [
    "from sklearn.ensemble import RandomForestRegressor\n",
    "# Create a model with scikit-learn\n",
    "model = RandomForestRegressor(n_estimators=100, random_state=78)"
   ]
  },
  {
   "cell_type": "code",
   "execution_count": null,
   "metadata": {},
   "outputs": [
    {
     "name": "stderr",
     "output_type": "stream",
     "text": [
      "C:\\Users\\KX\\AppData\\Local\\Temp\\ipykernel_3476\\691190593.py:2: DataConversionWarning: A column-vector y was passed when a 1d array was expected. Please change the shape of y to (n_samples,), for example using ravel().\n",
      "  model.fit(X, y)\n"
     ]
    },
    {
     "data": {
      "text/html": [
       "<style>#sk-container-id-2 {color: black;background-color: white;}#sk-container-id-2 pre{padding: 0;}#sk-container-id-2 div.sk-toggleable {background-color: white;}#sk-container-id-2 label.sk-toggleable__label {cursor: pointer;display: block;width: 100%;margin-bottom: 0;padding: 0.3em;box-sizing: border-box;text-align: center;}#sk-container-id-2 label.sk-toggleable__label-arrow:before {content: \"▸\";float: left;margin-right: 0.25em;color: #696969;}#sk-container-id-2 label.sk-toggleable__label-arrow:hover:before {color: black;}#sk-container-id-2 div.sk-estimator:hover label.sk-toggleable__label-arrow:before {color: black;}#sk-container-id-2 div.sk-toggleable__content {max-height: 0;max-width: 0;overflow: hidden;text-align: left;background-color: #f0f8ff;}#sk-container-id-2 div.sk-toggleable__content pre {margin: 0.2em;color: black;border-radius: 0.25em;background-color: #f0f8ff;}#sk-container-id-2 input.sk-toggleable__control:checked~div.sk-toggleable__content {max-height: 200px;max-width: 100%;overflow: auto;}#sk-container-id-2 input.sk-toggleable__control:checked~label.sk-toggleable__label-arrow:before {content: \"▾\";}#sk-container-id-2 div.sk-estimator input.sk-toggleable__control:checked~label.sk-toggleable__label {background-color: #d4ebff;}#sk-container-id-2 div.sk-label input.sk-toggleable__control:checked~label.sk-toggleable__label {background-color: #d4ebff;}#sk-container-id-2 input.sk-hidden--visually {border: 0;clip: rect(1px 1px 1px 1px);clip: rect(1px, 1px, 1px, 1px);height: 1px;margin: -1px;overflow: hidden;padding: 0;position: absolute;width: 1px;}#sk-container-id-2 div.sk-estimator {font-family: monospace;background-color: #f0f8ff;border: 1px dotted black;border-radius: 0.25em;box-sizing: border-box;margin-bottom: 0.5em;}#sk-container-id-2 div.sk-estimator:hover {background-color: #d4ebff;}#sk-container-id-2 div.sk-parallel-item::after {content: \"\";width: 100%;border-bottom: 1px solid gray;flex-grow: 1;}#sk-container-id-2 div.sk-label:hover label.sk-toggleable__label {background-color: #d4ebff;}#sk-container-id-2 div.sk-serial::before {content: \"\";position: absolute;border-left: 1px solid gray;box-sizing: border-box;top: 0;bottom: 0;left: 50%;z-index: 0;}#sk-container-id-2 div.sk-serial {display: flex;flex-direction: column;align-items: center;background-color: white;padding-right: 0.2em;padding-left: 0.2em;position: relative;}#sk-container-id-2 div.sk-item {position: relative;z-index: 1;}#sk-container-id-2 div.sk-parallel {display: flex;align-items: stretch;justify-content: center;background-color: white;position: relative;}#sk-container-id-2 div.sk-item::before, #sk-container-id-2 div.sk-parallel-item::before {content: \"\";position: absolute;border-left: 1px solid gray;box-sizing: border-box;top: 0;bottom: 0;left: 50%;z-index: -1;}#sk-container-id-2 div.sk-parallel-item {display: flex;flex-direction: column;z-index: 1;position: relative;background-color: white;}#sk-container-id-2 div.sk-parallel-item:first-child::after {align-self: flex-end;width: 50%;}#sk-container-id-2 div.sk-parallel-item:last-child::after {align-self: flex-start;width: 50%;}#sk-container-id-2 div.sk-parallel-item:only-child::after {width: 0;}#sk-container-id-2 div.sk-dashed-wrapped {border: 1px dashed gray;margin: 0 0.4em 0.5em 0.4em;box-sizing: border-box;padding-bottom: 0.4em;background-color: white;}#sk-container-id-2 div.sk-label label {font-family: monospace;font-weight: bold;display: inline-block;line-height: 1.2em;}#sk-container-id-2 div.sk-label-container {text-align: center;}#sk-container-id-2 div.sk-container {/* jupyter's `normalize.less` sets `[hidden] { display: none; }` but bootstrap.min.css set `[hidden] { display: none !important; }` so we also need the `!important` here to be able to override the default hidden behavior on the sphinx rendered scikit-learn.org. See: https://github.com/scikit-learn/scikit-learn/issues/21755 */display: inline-block !important;position: relative;}#sk-container-id-2 div.sk-text-repr-fallback {display: none;}</style><div id=\"sk-container-id-2\" class=\"sk-top-container\"><div class=\"sk-text-repr-fallback\"><pre>RandomForestRegressor(random_state=78)</pre><b>In a Jupyter environment, please rerun this cell to show the HTML representation or trust the notebook. <br />On GitHub, the HTML representation is unable to render, please try loading this page with nbviewer.org.</b></div><div class=\"sk-container\" hidden><div class=\"sk-item\"><div class=\"sk-estimator sk-toggleable\"><input class=\"sk-toggleable__control sk-hidden--visually\" id=\"sk-estimator-id-2\" type=\"checkbox\" checked><label for=\"sk-estimator-id-2\" class=\"sk-toggleable__label sk-toggleable__label-arrow\">RandomForestRegressor</label><div class=\"sk-toggleable__content\"><pre>RandomForestRegressor(random_state=78)</pre></div></div></div></div></div>"
      ],
      "text/plain": [
       "RandomForestRegressor(random_state=78)"
      ]
     },
     "metadata": {},
     "output_type": "display_data"
    }
   ],
   "source": [
    "# Fit the data into the model\n",
    "model.fit(X, y)"
   ]
  },
  {
   "cell_type": "markdown",
   "metadata": {},
   "source": [
    "## Assess the RandomForestRegressor Model"
   ]
  },
  {
   "cell_type": "code",
   "execution_count": null,
   "metadata": {},
   "outputs": [],
   "source": [
    "# Make predictions using the X set\n",
    "predicted_y_values = model.predict(X)"
   ]
  },
  {
   "cell_type": "code",
   "execution_count": null,
   "metadata": {},
   "outputs": [
    {
     "name": "stdout",
     "output_type": "stream",
     "text": [
      "[  9.8       9.8       9.8     ... 307.60993 307.15727 306.92427]\n"
     ]
    }
   ],
   "source": [
    "print(predicted_y_values)"
   ]
  },
  {
   "cell_type": "code",
   "execution_count": null,
   "metadata": {},
   "outputs": [
    {
     "name": "stdout",
     "output_type": "stream",
     "text": [
      "The score is 0.9999974385376819.\n",
      "The r2 is 0.9999974385376819.\n",
      "The mean squared error is 0.018634824621694142.\n",
      "The root mean squared error is 0.13650943052292813.\n",
      "The standard deviation is 85.29403680892737.\n"
     ]
    }
   ],
   "source": [
    "# Compute metrics for the linear regression model: score, r2, mse, rmse, std\n",
    "score = model.score(X, y, sample_weight=None)\n",
    "r2_LR = r2_score(y, predicted_y_values)\n",
    "mse = mean_squared_error(y, predicted_y_values)\n",
    "rmse = np.sqrt(mse)\n",
    "std = np.std(y)\n",
    "\n",
    "# Print relevant metrics.\n",
    "print(f\"The score is {score}.\")\n",
    "print(f\"The r2 is {r2_LR}.\")\n",
    "print(f\"The mean squared error is {mse}.\")\n",
    "print(f\"The root mean squared error is {rmse}.\")\n",
    "print(f\"The standard deviation is {std}.\")"
   ]
  },
  {
   "cell_type": "code",
   "execution_count": null,
   "metadata": {},
   "outputs": [],
   "source": [
    "# The X for future 80 years\n",
    "X_to_predict = np.array(range(1333, 2293)).reshape(-1,1)"
   ]
  },
  {
   "cell_type": "code",
   "execution_count": null,
   "metadata": {},
   "outputs": [],
   "source": [
    "# Make predictions using the X set\n",
    "predicted_y_values = model.predict(X_to_predict)"
   ]
  },
  {
   "cell_type": "code",
   "execution_count": null,
   "metadata": {},
   "outputs": [
    {
     "name": "stdout",
     "output_type": "stream",
     "text": [
      "[306.92427 306.92427 306.92427 306.92427 306.92427 306.92427 306.92427\n",
      " 306.92427 306.92427 306.92427 306.92427 306.92427 306.92427 306.92427\n",
      " 306.92427 306.92427 306.92427 306.92427 306.92427 306.92427 306.92427\n",
      " 306.92427 306.92427 306.92427 306.92427 306.92427 306.92427 306.92427\n",
      " 306.92427 306.92427 306.92427 306.92427 306.92427 306.92427 306.92427\n",
      " 306.92427 306.92427 306.92427 306.92427 306.92427 306.92427 306.92427\n",
      " 306.92427 306.92427 306.92427 306.92427 306.92427 306.92427 306.92427\n",
      " 306.92427 306.92427 306.92427 306.92427 306.92427 306.92427 306.92427\n",
      " 306.92427 306.92427 306.92427 306.92427 306.92427 306.92427 306.92427\n",
      " 306.92427 306.92427 306.92427 306.92427 306.92427 306.92427 306.92427\n",
      " 306.92427 306.92427 306.92427 306.92427 306.92427 306.92427 306.92427\n",
      " 306.92427 306.92427 306.92427 306.92427 306.92427 306.92427 306.92427\n",
      " 306.92427 306.92427 306.92427 306.92427 306.92427 306.92427 306.92427\n",
      " 306.92427 306.92427 306.92427 306.92427 306.92427 306.92427 306.92427\n",
      " 306.92427 306.92427 306.92427 306.92427 306.92427 306.92427 306.92427\n",
      " 306.92427 306.92427 306.92427 306.92427 306.92427 306.92427 306.92427\n",
      " 306.92427 306.92427 306.92427 306.92427 306.92427 306.92427 306.92427\n",
      " 306.92427 306.92427 306.92427 306.92427 306.92427 306.92427 306.92427\n",
      " 306.92427 306.92427 306.92427 306.92427 306.92427 306.92427 306.92427\n",
      " 306.92427 306.92427 306.92427 306.92427 306.92427 306.92427 306.92427\n",
      " 306.92427 306.92427 306.92427 306.92427 306.92427 306.92427 306.92427\n",
      " 306.92427 306.92427 306.92427 306.92427 306.92427 306.92427 306.92427\n",
      " 306.92427 306.92427 306.92427 306.92427 306.92427 306.92427 306.92427\n",
      " 306.92427 306.92427 306.92427 306.92427 306.92427 306.92427 306.92427\n",
      " 306.92427 306.92427 306.92427 306.92427 306.92427 306.92427 306.92427\n",
      " 306.92427 306.92427 306.92427 306.92427 306.92427 306.92427 306.92427\n",
      " 306.92427 306.92427 306.92427 306.92427 306.92427 306.92427 306.92427\n",
      " 306.92427 306.92427 306.92427 306.92427 306.92427 306.92427 306.92427\n",
      " 306.92427 306.92427 306.92427 306.92427 306.92427 306.92427 306.92427\n",
      " 306.92427 306.92427 306.92427 306.92427 306.92427 306.92427 306.92427\n",
      " 306.92427 306.92427 306.92427 306.92427 306.92427 306.92427 306.92427\n",
      " 306.92427 306.92427 306.92427 306.92427 306.92427 306.92427 306.92427\n",
      " 306.92427 306.92427 306.92427 306.92427 306.92427 306.92427 306.92427\n",
      " 306.92427 306.92427 306.92427 306.92427 306.92427 306.92427 306.92427\n",
      " 306.92427 306.92427 306.92427 306.92427 306.92427 306.92427 306.92427\n",
      " 306.92427 306.92427 306.92427 306.92427 306.92427 306.92427 306.92427\n",
      " 306.92427 306.92427 306.92427 306.92427 306.92427 306.92427 306.92427\n",
      " 306.92427 306.92427 306.92427 306.92427 306.92427 306.92427 306.92427\n",
      " 306.92427 306.92427 306.92427 306.92427 306.92427 306.92427 306.92427\n",
      " 306.92427 306.92427 306.92427 306.92427 306.92427 306.92427 306.92427\n",
      " 306.92427 306.92427 306.92427 306.92427 306.92427 306.92427 306.92427\n",
      " 306.92427 306.92427 306.92427 306.92427 306.92427 306.92427 306.92427\n",
      " 306.92427 306.92427 306.92427 306.92427 306.92427 306.92427 306.92427\n",
      " 306.92427 306.92427 306.92427 306.92427 306.92427 306.92427 306.92427\n",
      " 306.92427 306.92427 306.92427 306.92427 306.92427 306.92427 306.92427\n",
      " 306.92427 306.92427 306.92427 306.92427 306.92427 306.92427 306.92427\n",
      " 306.92427 306.92427 306.92427 306.92427 306.92427 306.92427 306.92427\n",
      " 306.92427 306.92427 306.92427 306.92427 306.92427 306.92427 306.92427\n",
      " 306.92427 306.92427 306.92427 306.92427 306.92427 306.92427 306.92427\n",
      " 306.92427 306.92427 306.92427 306.92427 306.92427 306.92427 306.92427\n",
      " 306.92427 306.92427 306.92427 306.92427 306.92427 306.92427 306.92427\n",
      " 306.92427 306.92427 306.92427 306.92427 306.92427 306.92427 306.92427\n",
      " 306.92427 306.92427 306.92427 306.92427 306.92427 306.92427 306.92427\n",
      " 306.92427 306.92427 306.92427 306.92427 306.92427 306.92427 306.92427\n",
      " 306.92427 306.92427 306.92427 306.92427 306.92427 306.92427 306.92427\n",
      " 306.92427 306.92427 306.92427 306.92427 306.92427 306.92427 306.92427\n",
      " 306.92427 306.92427 306.92427 306.92427 306.92427 306.92427 306.92427\n",
      " 306.92427 306.92427 306.92427 306.92427 306.92427 306.92427 306.92427\n",
      " 306.92427 306.92427 306.92427 306.92427 306.92427 306.92427 306.92427\n",
      " 306.92427 306.92427 306.92427 306.92427 306.92427 306.92427 306.92427\n",
      " 306.92427 306.92427 306.92427 306.92427 306.92427 306.92427 306.92427\n",
      " 306.92427 306.92427 306.92427 306.92427 306.92427 306.92427 306.92427\n",
      " 306.92427 306.92427 306.92427 306.92427 306.92427 306.92427 306.92427\n",
      " 306.92427 306.92427 306.92427 306.92427 306.92427 306.92427 306.92427\n",
      " 306.92427 306.92427 306.92427 306.92427 306.92427 306.92427 306.92427\n",
      " 306.92427 306.92427 306.92427 306.92427 306.92427 306.92427 306.92427\n",
      " 306.92427 306.92427 306.92427 306.92427 306.92427 306.92427 306.92427\n",
      " 306.92427 306.92427 306.92427 306.92427 306.92427 306.92427 306.92427\n",
      " 306.92427 306.92427 306.92427 306.92427 306.92427 306.92427 306.92427\n",
      " 306.92427 306.92427 306.92427 306.92427 306.92427 306.92427 306.92427\n",
      " 306.92427 306.92427 306.92427 306.92427 306.92427 306.92427 306.92427\n",
      " 306.92427 306.92427 306.92427 306.92427 306.92427 306.92427 306.92427\n",
      " 306.92427 306.92427 306.92427 306.92427 306.92427 306.92427 306.92427\n",
      " 306.92427 306.92427 306.92427 306.92427 306.92427 306.92427 306.92427\n",
      " 306.92427 306.92427 306.92427 306.92427 306.92427 306.92427 306.92427\n",
      " 306.92427 306.92427 306.92427 306.92427 306.92427 306.92427 306.92427\n",
      " 306.92427 306.92427 306.92427 306.92427 306.92427 306.92427 306.92427\n",
      " 306.92427 306.92427 306.92427 306.92427 306.92427 306.92427 306.92427\n",
      " 306.92427 306.92427 306.92427 306.92427 306.92427 306.92427 306.92427\n",
      " 306.92427 306.92427 306.92427 306.92427 306.92427 306.92427 306.92427\n",
      " 306.92427 306.92427 306.92427 306.92427 306.92427 306.92427 306.92427\n",
      " 306.92427 306.92427 306.92427 306.92427 306.92427 306.92427 306.92427\n",
      " 306.92427 306.92427 306.92427 306.92427 306.92427 306.92427 306.92427\n",
      " 306.92427 306.92427 306.92427 306.92427 306.92427 306.92427 306.92427\n",
      " 306.92427 306.92427 306.92427 306.92427 306.92427 306.92427 306.92427\n",
      " 306.92427 306.92427 306.92427 306.92427 306.92427 306.92427 306.92427\n",
      " 306.92427 306.92427 306.92427 306.92427 306.92427 306.92427 306.92427\n",
      " 306.92427 306.92427 306.92427 306.92427 306.92427 306.92427 306.92427\n",
      " 306.92427 306.92427 306.92427 306.92427 306.92427 306.92427 306.92427\n",
      " 306.92427 306.92427 306.92427 306.92427 306.92427 306.92427 306.92427\n",
      " 306.92427 306.92427 306.92427 306.92427 306.92427 306.92427 306.92427\n",
      " 306.92427 306.92427 306.92427 306.92427 306.92427 306.92427 306.92427\n",
      " 306.92427 306.92427 306.92427 306.92427 306.92427 306.92427 306.92427\n",
      " 306.92427 306.92427 306.92427 306.92427 306.92427 306.92427 306.92427\n",
      " 306.92427 306.92427 306.92427 306.92427 306.92427 306.92427 306.92427\n",
      " 306.92427 306.92427 306.92427 306.92427 306.92427 306.92427 306.92427\n",
      " 306.92427 306.92427 306.92427 306.92427 306.92427 306.92427 306.92427\n",
      " 306.92427 306.92427 306.92427 306.92427 306.92427 306.92427 306.92427\n",
      " 306.92427 306.92427 306.92427 306.92427 306.92427 306.92427 306.92427\n",
      " 306.92427 306.92427 306.92427 306.92427 306.92427 306.92427 306.92427\n",
      " 306.92427 306.92427 306.92427 306.92427 306.92427 306.92427 306.92427\n",
      " 306.92427 306.92427 306.92427 306.92427 306.92427 306.92427 306.92427\n",
      " 306.92427 306.92427 306.92427 306.92427 306.92427 306.92427 306.92427\n",
      " 306.92427 306.92427 306.92427 306.92427 306.92427 306.92427 306.92427\n",
      " 306.92427 306.92427 306.92427 306.92427 306.92427 306.92427 306.92427\n",
      " 306.92427 306.92427 306.92427 306.92427 306.92427 306.92427 306.92427\n",
      " 306.92427 306.92427 306.92427 306.92427 306.92427 306.92427 306.92427\n",
      " 306.92427 306.92427 306.92427 306.92427 306.92427 306.92427 306.92427\n",
      " 306.92427 306.92427 306.92427 306.92427 306.92427 306.92427 306.92427\n",
      " 306.92427 306.92427 306.92427 306.92427 306.92427 306.92427 306.92427\n",
      " 306.92427 306.92427 306.92427 306.92427 306.92427 306.92427 306.92427\n",
      " 306.92427 306.92427 306.92427 306.92427 306.92427 306.92427 306.92427\n",
      " 306.92427 306.92427 306.92427 306.92427 306.92427 306.92427 306.92427\n",
      " 306.92427 306.92427 306.92427 306.92427 306.92427 306.92427 306.92427\n",
      " 306.92427 306.92427 306.92427 306.92427 306.92427 306.92427 306.92427\n",
      " 306.92427 306.92427 306.92427 306.92427 306.92427 306.92427 306.92427\n",
      " 306.92427 306.92427 306.92427 306.92427 306.92427 306.92427 306.92427\n",
      " 306.92427 306.92427 306.92427 306.92427 306.92427 306.92427 306.92427\n",
      " 306.92427 306.92427 306.92427 306.92427 306.92427 306.92427 306.92427\n",
      " 306.92427 306.92427 306.92427 306.92427 306.92427 306.92427 306.92427\n",
      " 306.92427 306.92427 306.92427 306.92427 306.92427 306.92427 306.92427\n",
      " 306.92427 306.92427 306.92427 306.92427 306.92427 306.92427 306.92427\n",
      " 306.92427 306.92427 306.92427 306.92427 306.92427 306.92427 306.92427\n",
      " 306.92427 306.92427 306.92427 306.92427 306.92427 306.92427 306.92427\n",
      " 306.92427 306.92427 306.92427 306.92427 306.92427 306.92427 306.92427\n",
      " 306.92427 306.92427 306.92427 306.92427 306.92427 306.92427 306.92427\n",
      " 306.92427 306.92427 306.92427 306.92427 306.92427 306.92427 306.92427\n",
      " 306.92427 306.92427 306.92427 306.92427 306.92427 306.92427 306.92427\n",
      " 306.92427 306.92427 306.92427 306.92427 306.92427 306.92427 306.92427\n",
      " 306.92427 306.92427 306.92427 306.92427 306.92427 306.92427 306.92427\n",
      " 306.92427 306.92427 306.92427 306.92427 306.92427 306.92427 306.92427\n",
      " 306.92427 306.92427 306.92427 306.92427 306.92427 306.92427 306.92427\n",
      " 306.92427 306.92427 306.92427 306.92427 306.92427 306.92427 306.92427\n",
      " 306.92427 306.92427 306.92427 306.92427 306.92427 306.92427 306.92427\n",
      " 306.92427 306.92427 306.92427 306.92427 306.92427 306.92427 306.92427\n",
      " 306.92427 306.92427 306.92427 306.92427 306.92427 306.92427 306.92427\n",
      " 306.92427 306.92427 306.92427 306.92427 306.92427 306.92427 306.92427\n",
      " 306.92427]\n"
     ]
    }
   ],
   "source": [
    "print(predicted_y_values)"
   ]
  }
 ],
 "metadata": {
  "kernelspec": {
   "display_name": "Python 3 (ipykernel)",
   "language": "python",
   "name": "python3"
  },
  "language_info": {
   "codemirror_mode": {
    "name": "ipython",
    "version": 3
   },
   "file_extension": ".py",
   "mimetype": "text/x-python",
   "name": "python",
   "nbconvert_exporter": "python",
   "pygments_lexer": "ipython3",
   "version": "3.10.13"
  }
 },
 "nbformat": 4,
 "nbformat_minor": 4
}
